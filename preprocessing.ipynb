{
 "cells": [
  {
   "cell_type": "code",
   "execution_count": null,
   "metadata": {},
   "outputs": [
    {
     "ename": "KeyboardInterrupt",
     "evalue": "",
     "output_type": "error",
     "traceback": [
      "\u001b[0;31m---------------------------------------------------------------------------\u001b[0m",
      "\u001b[0;31mKeyboardInterrupt\u001b[0m                         Traceback (most recent call last)",
      "Cell \u001b[0;32mIn[1], line 1\u001b[0m\n\u001b[0;32m----> 1\u001b[0m \u001b[43mget_ipython\u001b[49m\u001b[43m(\u001b[49m\u001b[43m)\u001b[49m\u001b[38;5;241;43m.\u001b[39;49m\u001b[43msystem\u001b[49m\u001b[43m(\u001b[49m\u001b[38;5;124;43m'\u001b[39;49m\u001b[38;5;124;43m pip install torch-scatter torch-sparse torch-cluster torch-spline-conv pyg-lib torch-geometric\u001b[39;49m\u001b[38;5;124;43m'\u001b[39;49m\u001b[43m)\u001b[49m\n\u001b[1;32m      2\u001b[0m get_ipython()\u001b[38;5;241m.\u001b[39msystem(\u001b[38;5;124m'\u001b[39m\u001b[38;5;124m pip install beautifulsoup4\u001b[39m\u001b[38;5;124m'\u001b[39m)\n\u001b[1;32m      3\u001b[0m get_ipython()\u001b[38;5;241m.\u001b[39msystem(\u001b[38;5;124m'\u001b[39m\u001b[38;5;124m pip install mediawikiapi\u001b[39m\u001b[38;5;124m'\u001b[39m)\n",
      "File \u001b[0;32m/opt/homebrew/Caskroom/miniconda/base/envs/DL/lib/python3.12/site-packages/ipykernel/zmqshell.py:657\u001b[0m, in \u001b[0;36mZMQInteractiveShell.system_piped\u001b[0;34m(self, cmd)\u001b[0m\n\u001b[1;32m    655\u001b[0m         \u001b[38;5;28mself\u001b[39m\u001b[38;5;241m.\u001b[39muser_ns[\u001b[38;5;124m\"\u001b[39m\u001b[38;5;124m_exit_code\u001b[39m\u001b[38;5;124m\"\u001b[39m] \u001b[38;5;241m=\u001b[39m system(cmd)\n\u001b[1;32m    656\u001b[0m \u001b[38;5;28;01melse\u001b[39;00m:\n\u001b[0;32m--> 657\u001b[0m     \u001b[38;5;28mself\u001b[39m\u001b[38;5;241m.\u001b[39muser_ns[\u001b[38;5;124m\"\u001b[39m\u001b[38;5;124m_exit_code\u001b[39m\u001b[38;5;124m\"\u001b[39m] \u001b[38;5;241m=\u001b[39m \u001b[43msystem\u001b[49m\u001b[43m(\u001b[49m\u001b[38;5;28;43mself\u001b[39;49m\u001b[38;5;241;43m.\u001b[39;49m\u001b[43mvar_expand\u001b[49m\u001b[43m(\u001b[49m\u001b[43mcmd\u001b[49m\u001b[43m,\u001b[49m\u001b[43m \u001b[49m\u001b[43mdepth\u001b[49m\u001b[38;5;241;43m=\u001b[39;49m\u001b[38;5;241;43m1\u001b[39;49m\u001b[43m)\u001b[49m\u001b[43m)\u001b[49m\n",
      "File \u001b[0;32m/opt/homebrew/Caskroom/miniconda/base/envs/DL/lib/python3.12/site-packages/IPython/utils/_process_posix.py:125\u001b[0m, in \u001b[0;36mProcessHandler.system\u001b[0;34m(self, cmd)\u001b[0m\n\u001b[1;32m    113\u001b[0m \u001b[38;5;28;01mdef\u001b[39;00m \u001b[38;5;21msystem\u001b[39m(\u001b[38;5;28mself\u001b[39m, cmd):\n\u001b[1;32m    114\u001b[0m \u001b[38;5;250m    \u001b[39m\u001b[38;5;124;03m\"\"\"Execute a command in a subshell.\u001b[39;00m\n\u001b[1;32m    115\u001b[0m \n\u001b[1;32m    116\u001b[0m \u001b[38;5;124;03m    Parameters\u001b[39;00m\n\u001b[0;32m   (...)\u001b[0m\n\u001b[1;32m    123\u001b[0m \u001b[38;5;124;03m    int : child's exitstatus\u001b[39;00m\n\u001b[1;32m    124\u001b[0m \u001b[38;5;124;03m    \"\"\"\u001b[39;00m\n\u001b[0;32m--> 125\u001b[0m     \u001b[38;5;28;01mimport\u001b[39;00m \u001b[38;5;21;01mpexpect\u001b[39;00m\n\u001b[1;32m    127\u001b[0m     \u001b[38;5;66;03m# Get likely encoding for the output.\u001b[39;00m\n\u001b[1;32m    128\u001b[0m     enc \u001b[38;5;241m=\u001b[39m DEFAULT_ENCODING\n",
      "File \u001b[0;32m/opt/homebrew/Caskroom/miniconda/base/envs/DL/lib/python3.12/site-packages/pexpect/__init__.py:81\u001b[0m\n\u001b[1;32m     77\u001b[0m \u001b[38;5;28;01mfrom\u001b[39;00m \u001b[38;5;21;01m.\u001b[39;00m\u001b[38;5;21;01mexpect\u001b[39;00m \u001b[38;5;28;01mimport\u001b[39;00m Expecter, searcher_re, searcher_string\n\u001b[1;32m     79\u001b[0m \u001b[38;5;28;01mif\u001b[39;00m sys\u001b[38;5;241m.\u001b[39mplatform \u001b[38;5;241m!=\u001b[39m \u001b[38;5;124m'\u001b[39m\u001b[38;5;124mwin32\u001b[39m\u001b[38;5;124m'\u001b[39m:\n\u001b[1;32m     80\u001b[0m     \u001b[38;5;66;03m# On Unix, these are available at the top level for backwards compatibility\u001b[39;00m\n\u001b[0;32m---> 81\u001b[0m     \u001b[38;5;28;01mfrom\u001b[39;00m \u001b[38;5;21;01m.\u001b[39;00m\u001b[38;5;21;01mpty_spawn\u001b[39;00m \u001b[38;5;28;01mimport\u001b[39;00m spawn, spawnu\n\u001b[1;32m     82\u001b[0m     \u001b[38;5;28;01mfrom\u001b[39;00m \u001b[38;5;21;01m.\u001b[39;00m\u001b[38;5;21;01mrun\u001b[39;00m \u001b[38;5;28;01mimport\u001b[39;00m run, runu\n\u001b[1;32m     84\u001b[0m __version__ \u001b[38;5;241m=\u001b[39m \u001b[38;5;124m'\u001b[39m\u001b[38;5;124m4.9.0\u001b[39m\u001b[38;5;124m'\u001b[39m\n",
      "File \u001b[0;32m/opt/homebrew/Caskroom/miniconda/base/envs/DL/lib/python3.12/site-packages/pexpect/pty_spawn.py:4\u001b[0m\n\u001b[1;32m      2\u001b[0m \u001b[38;5;28;01mimport\u001b[39;00m \u001b[38;5;21;01msys\u001b[39;00m\n\u001b[1;32m      3\u001b[0m \u001b[38;5;28;01mimport\u001b[39;00m \u001b[38;5;21;01mtime\u001b[39;00m\n\u001b[0;32m----> 4\u001b[0m \u001b[38;5;28;01mimport\u001b[39;00m \u001b[38;5;21;01mpty\u001b[39;00m\n\u001b[1;32m      5\u001b[0m \u001b[38;5;28;01mimport\u001b[39;00m \u001b[38;5;21;01mtty\u001b[39;00m\n\u001b[1;32m      6\u001b[0m \u001b[38;5;28;01mimport\u001b[39;00m \u001b[38;5;21;01merrno\u001b[39;00m\n",
      "File \u001b[0;32m<frozen importlib._bootstrap>:1360\u001b[0m, in \u001b[0;36m_find_and_load\u001b[0;34m(name, import_)\u001b[0m\n",
      "File \u001b[0;32m<frozen importlib._bootstrap>:1331\u001b[0m, in \u001b[0;36m_find_and_load_unlocked\u001b[0;34m(name, import_)\u001b[0m\n",
      "File \u001b[0;32m<frozen importlib._bootstrap>:935\u001b[0m, in \u001b[0;36m_load_unlocked\u001b[0;34m(spec)\u001b[0m\n",
      "File \u001b[0;32m<frozen importlib._bootstrap_external>:991\u001b[0m, in \u001b[0;36mexec_module\u001b[0;34m(self, module)\u001b[0m\n",
      "File \u001b[0;32m<frozen importlib._bootstrap_external>:1112\u001b[0m, in \u001b[0;36mget_code\u001b[0;34m(self, fullname)\u001b[0m\n",
      "File \u001b[0;32m<frozen importlib._bootstrap_external>:718\u001b[0m, in \u001b[0;36m_validate_timestamp_pyc\u001b[0;34m(data, source_mtime, source_size, name, exc_details)\u001b[0m\n",
      "File \u001b[0;32m<frozen importlib._bootstrap_external>:87\u001b[0m, in \u001b[0;36m_unpack_uint32\u001b[0;34m(data)\u001b[0m\n",
      "\u001b[0;31mKeyboardInterrupt\u001b[0m: "
     ]
    }
   ],
   "source": [
    "! pip install torch-scatter torch-sparse torch-cluster torch-spline-conv pyg-lib torch-geometric\n",
    "! pip install beautifulsoup4\n",
    "! pip install mediawikiapi"
   ]
  },
  {
   "cell_type": "code",
   "execution_count": 27,
   "metadata": {},
   "outputs": [
    {
     "name": "stdout",
     "output_type": "stream",
     "text": [
      "Copied 438832 lines out of 10822149 (4.05%)\n",
      "Genres (26):\n",
      "\tDrama: 157544\n",
      "\tDocumentary: 117247\n",
      "\tComedy: 76134\n",
      "\tAction: 37525\n",
      "\tThriller: 32705\n",
      "\tRomance: 31812\n",
      "\tHorror: 28477\n",
      "\tCrime: 24305\n",
      "\tAdventure: 17393\n",
      "\tBiography: 15654\n",
      "\tFamily: 14569\n",
      "\tMystery: 13438\n",
      "\tHistory: 11945\n",
      "\tMusic: 11287\n",
      "\tFantasy: 11047\n",
      "\tSci-Fi: 9033\n",
      "\tAnimation: 7906\n",
      "\tAdult: 6560\n",
      "\tSport: 6310\n",
      "\tWar: 4839\n",
      "\tMusical: 4576\n",
      "\tNews: 1634\n",
      "\tWestern: 1302\n",
      "\tReality-TV: 493\n",
      "\tTalk-Show: 163\n",
      "\tGame-Show: 21\n"
     ]
    }
   ],
   "source": [
    "from csv import reader as CSVReader\n",
    "from csv import writer as CSVWriter\n",
    "from operator import itemgetter as itemgetter\n",
    "\n",
    "titleFilePath = \"data/title.basics.tsv\"\n",
    "titleOutputFilePath = \"data/title.basics_trimmed.tsv\"\n",
    "\n",
    "minStartYear = 1980\n",
    "\n",
    "genreFreq = {}\n",
    "with open(titleFilePath, \"r\") as titleFile, open(titleOutputFilePath, \"w\") as titleOutFile:\n",
    "  reader = CSVReader(titleFile, delimiter=\"\\t\", quotechar=None)\n",
    "  writer = CSVWriter(titleOutFile, delimiter=\"\\t\")\n",
    "\n",
    "  i = 0\n",
    "  j = 0\n",
    "  for line in reader:\n",
    "    l = list(line)\n",
    "    startStr = str(l[5])\n",
    "    type = str(l[1])\n",
    "    genres = str(l[8]).split(sep=',')\n",
    "    if ( (i != 0) and (startStr != \"\\\\N\") and (int(startStr) >= minStartYear) and type == \"movie\"):\n",
    "      writer.writerow(line)\n",
    "      for genre in genres:\n",
    "        if genre != \"\\\\N\":\n",
    "          if genre in genreFreq:\n",
    "            genreFreq[genre] += 1\n",
    "          else:\n",
    "            genreFreq[genre] = 1\n",
    "      j += 1\n",
    "    i += 1\n",
    "\n",
    "print(f\"Copied {j} lines out of {i} ({round((j / i) * 100, 2)}%)\")\n",
    "\n",
    "genreFreqItems = genreFreq.items()\n",
    "print(f\"Genres ({len(genreFreqItems)}):\")\n",
    "for genre, freq in sorted(genreFreqItems, key=itemgetter(1), reverse=True):\n",
    "  print(f\"\\t{genre}: {freq}\")"
   ]
  },
  {
   "cell_type": "code",
   "execution_count": 30,
   "metadata": {},
   "outputs": [],
   "source": [
    "genreList = list(i[0] for i in genreFreqItems)\n",
    "\n",
    "trimmedTitleInputFilePath = \"data/title.basics_trimmed.tsv\"\n",
    "encodedTitleOutputFilePath = \"data/title.basics_encoded.tsv\"\n",
    "\n",
    "with open(trimmedTitleInputFilePath, \"r\") as trimmedTitleInputFile, open(encodedTitleOutputFilePath, \"w\") as encodedTitleOutputFile:\n",
    "  reader = CSVReader(trimmedTitleInputFile, delimiter=\"\\t\", quotechar=None)\n",
    "  writer = CSVWriter(encodedTitleOutputFile, delimiter=\"\\t\")\n",
    "\n",
    "  for line in reader:\n",
    "    l = list(line)\n",
    "    \n",
    "    encodedGenres = \"\"\n",
    "    genres = str(l[8]).split(sep=',')\n",
    "    for genre in genreList:\n",
    "      if genre in genres:\n",
    "        encodedGenres += '1'\n",
    "      else:\n",
    "        encodedGenres += '0' \n",
    "    newRow = l[:7]\n",
    "    newRow.append(encodedGenres)\n",
    "    writer.writerow(newRow)"
   ]
  }
 ],
 "metadata": {
  "kernelspec": {
   "display_name": "DL",
   "language": "python",
   "name": "python3"
  },
  "language_info": {
   "codemirror_mode": {
    "name": "ipython",
    "version": 3
   },
   "file_extension": ".py",
   "mimetype": "text/x-python",
   "name": "python",
   "nbconvert_exporter": "python",
   "pygments_lexer": "ipython3",
   "version": "3.12.2"
  }
 },
 "nbformat": 4,
 "nbformat_minor": 2
}
