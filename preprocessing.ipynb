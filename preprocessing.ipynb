{
 "cells": [
  {
   "cell_type": "code",
   "execution_count": 1,
   "metadata": {},
   "outputs": [
    {
     "name": "stdout",
     "output_type": "stream",
     "text": [
      "Collecting torch-scatter\n",
      "  Using cached torch_scatter-2.1.2.tar.gz (108 kB)\n",
      "  Preparing metadata (setup.py) ... \u001b[?25ldone\n",
      "\u001b[?25hCollecting torch-sparse\n",
      "  Downloading torch_sparse-0.6.18.tar.gz (209 kB)\n",
      "\u001b[2K     \u001b[90m━━━━━━━━━━━━━━━━━━━━━━━━━━━━━━━━━━━━━\u001b[0m \u001b[32m210.0/210.0 kB\u001b[0m \u001b[31m775.6 kB/s\u001b[0m eta \u001b[36m0:00:00\u001b[0ma \u001b[36m0:00:01\u001b[0m\n",
      "\u001b[?25h  Preparing metadata (setup.py) ... \u001b[?25ldone\n",
      "\u001b[?25hCollecting torch-cluster\n",
      "  Downloading torch_cluster-1.6.3.tar.gz (54 kB)\n",
      "\u001b[2K     \u001b[90m━━━━━━━━━━━━━━━━━━━━━━━━━━━━━━━━━━━━━━━\u001b[0m \u001b[32m54.5/54.5 kB\u001b[0m \u001b[31m479.9 kB/s\u001b[0m eta \u001b[36m0:00:00\u001b[0ma \u001b[36m0:00:01\u001b[0m\n",
      "\u001b[?25h  Preparing metadata (setup.py) ... \u001b[?25ldone\n",
      "\u001b[?25hCollecting torch-spline-conv\n",
      "  Downloading torch_spline_conv-1.2.2.tar.gz (25 kB)\n",
      "  Preparing metadata (setup.py) ... \u001b[?25ldone\n",
      "\u001b[?25h\u001b[31mERROR: Could not find a version that satisfies the requirement pyg-lib (from versions: none)\u001b[0m\u001b[31m\n",
      "\u001b[0m\u001b[31mERROR: No matching distribution found for pyg-lib\u001b[0m\u001b[31m\n",
      "\u001b[0mRequirement already satisfied: beautifulsoup4 in /opt/homebrew/Caskroom/miniconda/base/envs/DL/lib/python3.12/site-packages (4.12.3)\n",
      "Requirement already satisfied: soupsieve>1.2 in /opt/homebrew/Caskroom/miniconda/base/envs/DL/lib/python3.12/site-packages (from beautifulsoup4) (2.5)\n",
      "Requirement already satisfied: mediawikiapi in /opt/homebrew/Caskroom/miniconda/base/envs/DL/lib/python3.12/site-packages (1.2)\n",
      "Requirement already satisfied: beautifulsoup4<5.0.0,>=4.11.1 in /opt/homebrew/Caskroom/miniconda/base/envs/DL/lib/python3.12/site-packages (from mediawikiapi) (4.12.3)\n",
      "Requirement already satisfied: requests<3.0.0,>=2.28.1 in /opt/homebrew/Caskroom/miniconda/base/envs/DL/lib/python3.12/site-packages (from mediawikiapi) (2.31.0)\n",
      "Requirement already satisfied: soupsieve>1.2 in /opt/homebrew/Caskroom/miniconda/base/envs/DL/lib/python3.12/site-packages (from beautifulsoup4<5.0.0,>=4.11.1->mediawikiapi) (2.5)\n",
      "Requirement already satisfied: charset-normalizer<4,>=2 in /opt/homebrew/Caskroom/miniconda/base/envs/DL/lib/python3.12/site-packages (from requests<3.0.0,>=2.28.1->mediawikiapi) (3.3.2)\n",
      "Requirement already satisfied: idna<4,>=2.5 in /opt/homebrew/Caskroom/miniconda/base/envs/DL/lib/python3.12/site-packages (from requests<3.0.0,>=2.28.1->mediawikiapi) (3.6)\n",
      "Requirement already satisfied: urllib3<3,>=1.21.1 in /opt/homebrew/Caskroom/miniconda/base/envs/DL/lib/python3.12/site-packages (from requests<3.0.0,>=2.28.1->mediawikiapi) (2.2.1)\n",
      "Requirement already satisfied: certifi>=2017.4.17 in /opt/homebrew/Caskroom/miniconda/base/envs/DL/lib/python3.12/site-packages (from requests<3.0.0,>=2.28.1->mediawikiapi) (2024.2.2)\n"
     ]
    }
   ],
   "source": [
    "! pip install torch-scatter torch-sparse torch-cluster torch-spline-conv pyg-lib torch-geometric\n",
    "! pip install beautifulsoup4\n",
    "! pip install mediawikiapi"
   ]
  },
  {
   "cell_type": "code",
   "execution_count": 3,
   "metadata": {},
   "outputs": [
    {
     "name": "stdout",
     "output_type": "stream",
     "text": [
      "Copied 438832 lines out of 10822149 (4.05%)\n",
      "Genres (26):\n",
      "\tDrama: 157544\n",
      "\tDocumentary: 117247\n",
      "\tComedy: 76134\n",
      "\tAction: 37525\n",
      "\tThriller: 32705\n",
      "\tRomance: 31812\n",
      "\tHorror: 28477\n",
      "\tCrime: 24305\n",
      "\tAdventure: 17393\n",
      "\tBiography: 15654\n",
      "\tFamily: 14569\n",
      "\tMystery: 13438\n",
      "\tHistory: 11945\n",
      "\tMusic: 11287\n",
      "\tFantasy: 11047\n",
      "\tSci-Fi: 9033\n",
      "\tAnimation: 7906\n",
      "\tAdult: 6560\n",
      "\tSport: 6310\n",
      "\tWar: 4839\n",
      "\tMusical: 4576\n",
      "\tNews: 1634\n",
      "\tWestern: 1302\n",
      "\tReality-TV: 493\n",
      "\tTalk-Show: 163\n",
      "\tGame-Show: 21\n"
     ]
    }
   ],
   "source": [
    "from csv import reader as CSVReader\n",
    "from csv import writer as CSVWriter\n",
    "from operator import itemgetter as itemgetter\n",
    "\n",
    "# Trim based on minimum start year, \"movie\" classification and count genre frequencies\n",
    "\n",
    "inpath = \"data/title.basics.tsv\"\n",
    "outpath = \"data/title.basics_trimmed.tsv\"\n",
    "\n",
    "minStartYear = 1980\n",
    "\n",
    "genreFreq = {}\n",
    "with open(inpath, \"r\") as infile, open(outpath, \"w\") as outfile:\n",
    "  reader = CSVReader(infile, delimiter=\"\\t\", quotechar=None)\n",
    "  writer = CSVWriter(outfile, delimiter=\"\\t\")\n",
    "\n",
    "  i = 0\n",
    "  j = 0\n",
    "  for line in reader:\n",
    "    l = list(line)\n",
    "    startStr = str(l[5])\n",
    "    type = str(l[1])\n",
    "    genres = str(l[8]).split(sep=',')\n",
    "    if ( (i != 0) and (startStr != \"\\\\N\") and (int(startStr) >= minStartYear) and type == \"movie\"):\n",
    "      writer.writerow(line)\n",
    "      for genre in genres:\n",
    "        if genre != \"\\\\N\":\n",
    "          if genre in genreFreq:\n",
    "            genreFreq[genre] += 1\n",
    "          else:\n",
    "            genreFreq[genre] = 1\n",
    "      j += 1\n",
    "    i += 1\n",
    "\n",
    "print(f\"Copied {j} lines out of {i} ({round((j / i) * 100, 2)}%)\")\n",
    "\n",
    "genreFreqItems = genreFreq.items()\n",
    "print(f\"Genres ({len(genreFreqItems)}):\")\n",
    "for genre, freq in sorted(genreFreqItems, key=itemgetter(1), reverse=True):\n",
    "  print(f\"\\t{genre}: {freq}\")\n",
    "\n",
    "del genreFreq"
   ]
  },
  {
   "cell_type": "code",
   "execution_count": 7,
   "metadata": {},
   "outputs": [],
   "source": [
    "# Encode genre list for each movie\n",
    "genreList = list(i[0] for i in genreFreqItems)\n",
    "\n",
    "inpath = \"data/title.basics_trimmed.tsv\"\n",
    "outpath = \"data/title.basics_genres_encoded.tsv\"\n",
    "\n",
    "with open(inpath, \"r\") as infile, open(outpath, \"w\") as outfile:\n",
    "  reader = CSVReader(infile, delimiter=\"\\t\", quotechar=None)\n",
    "  writer = CSVWriter(outfile, delimiter=\"\\t\")\n",
    "\n",
    "  for line in reader:\n",
    "    l = list(line)\n",
    "    \n",
    "    encodedGenres = \"\"\n",
    "    genres = str(l[8]).split(sep=',')\n",
    "    for genre in genreList:\n",
    "      if genre in genres:\n",
    "        encodedGenres += '1'\n",
    "      else:\n",
    "        encodedGenres += '0' \n",
    "    newRow = l[:8]\n",
    "    newRow.append(encodedGenres)\n",
    "    writer.writerow(newRow)"
   ]
  },
  {
   "cell_type": "code",
   "execution_count": 8,
   "metadata": {},
   "outputs": [
    {
     "name": "stdout",
     "output_type": "stream",
     "text": [
      "Removed 25975 duplicates\n"
     ]
    }
   ],
   "source": [
    "# Trim out duplicate references to same movie\n",
    "\n",
    "inpath = \"data/title.basics_genres_encoded.tsv\"\n",
    "outpath = \"data/title_unique.tsv\"\n",
    "\n",
    "observedFeatures = set()\n",
    "\n",
    "numDuplicates = 0\n",
    "\n",
    "with open(inpath, \"r\") as infile, open(outpath, \"w\") as outfile:\n",
    "  reader = CSVReader(infile, delimiter=\"\\t\", quotechar=None)\n",
    "  writer = CSVWriter(outfile, delimiter=\"\\t\")\n",
    "\n",
    "  for line in reader:\n",
    "    l = list(line)\n",
    "    features = str(l[1:])\n",
    "    if not features in observedFeatures:\n",
    "      observedFeatures.add(features)\n",
    "      writer.writerow(l)\n",
    "    else:\n",
    "      numDuplicates += 1    \n",
    "\n",
    "del observedFeatures\n",
    "print(f\"Removed {numDuplicates} duplicates\")"
   ]
  },
  {
   "cell_type": "code",
   "execution_count": 14,
   "metadata": {},
   "outputs": [],
   "source": [
    "# Trim out unnecessary columns (titleType (1), originalTitle (2), endYear (6))\n",
    "\n",
    "inpath = \"data/title_unique.tsv\"\n",
    "outpath = \"data/processed/movies.tsv\"\n",
    "\n",
    "observedFeatures = set()\n",
    "\n",
    "numDuplicates = 0\n",
    "\n",
    "with open(inpath, \"r\") as infile, open(outpath, \"w\") as outfile:\n",
    "  reader = CSVReader(infile, delimiter=\"\\t\", quotechar=None)\n",
    "  writer = CSVWriter(outfile, delimiter=\"\\t\")\n",
    "\n",
    "  for line in reader:\n",
    "    l = list(line)\n",
    "    writer.writerow([l[0], l[3], l[4], l[5], l[7], l[8]])"
   ]
  },
  {
   "cell_type": "code",
   "execution_count": 15,
   "metadata": {},
   "outputs": [
    {
     "name": "stdout",
     "output_type": "stream",
     "text": [
      "Removed 97840 entries\n"
     ]
    }
   ],
   "source": [
    "# Drop movies that do not contain a runtime length value\n",
    "\n",
    "inpath = \"data/processed/movies.tsv\"\n",
    "outpath = \"data/processed/moviesRuntimes.tsv\"\n",
    "\n",
    "numRemoved = 0\n",
    "\n",
    "with open(inpath, \"r\") as infile, open(outpath, \"w\") as outfile:\n",
    "  reader = CSVReader(infile, delimiter=\"\\t\", quotechar=None)\n",
    "  writer = CSVWriter(outfile, delimiter=\"\\t\")\n",
    "\n",
    "  for line in reader:\n",
    "    l = list(line)\n",
    "    if (l[4] != \"\\\\N\"):\n",
    "      writer.writerow(l)\n",
    "    else:\n",
    "      numRemoved += 1\n",
    "\n",
    "print(f\"Removed {numRemoved} entries\")"
   ]
  },
  {
   "cell_type": "code",
   "execution_count": null,
   "metadata": {},
   "outputs": [],
   "source": []
  }
 ],
 "metadata": {
  "kernelspec": {
   "display_name": "DL",
   "language": "python",
   "name": "python3"
  },
  "language_info": {
   "codemirror_mode": {
    "name": "ipython",
    "version": 3
   },
   "file_extension": ".py",
   "mimetype": "text/x-python",
   "name": "python",
   "nbconvert_exporter": "python",
   "pygments_lexer": "ipython3",
   "version": "3.12.2"
  }
 },
 "nbformat": 4,
 "nbformat_minor": 2
}
